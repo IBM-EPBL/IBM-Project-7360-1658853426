{
  "nbformat": 4,
  "nbformat_minor": 0,
  "metadata": {
    "colab": {
      "provenance": []
    },
    "kernelspec": {
      "name": "python3",
      "display_name": "Python 3"
    },
    "language_info": {
      "name": "python"
    }
  },
  "cells": [
    {
      "cell_type": "markdown",
      "source": [
        "**Importing required Libraries**"
      ],
      "metadata": {
        "id": "NzRG3QR_xnoA"
      }
    },
    {
      "cell_type": "code",
      "execution_count": 1,
      "metadata": {
        "id": "P9YY-y1Zximo"
      },
      "outputs": [],
      "source": [
        "import numpy#for numerical analysis\n",
        "import tensorflow#open source ml tool by google"
      ]
    },
    {
      "cell_type": "code",
      "source": [
        "from tensorflow.keras.datasets import mnist #mnist dataset\n",
        "from tensorflow.keras.models import Sequential\n",
        "from tensorflow.keras import layers"
      ],
      "metadata": {
        "id": "pbLviKphx1V-"
      },
      "execution_count": 2,
      "outputs": []
    },
    {
      "cell_type": "code",
      "source": [
        "from tensorflow.keras.layers import Dense,Flatten\n",
        "from tensorflow.keras.layers import Conv2D\n",
        "from tensorflow import keras"
      ],
      "metadata": {
        "id": "dLYiIND2x5Jt"
      },
      "execution_count": 3,
      "outputs": []
    },
    {
      "cell_type": "code",
      "source": [
        "from tensorflow.keras.optimizers import Adam\n",
        "from keras.utils import np_utils"
      ],
      "metadata": {
        "id": "BClj349dx7sh"
      },
      "execution_count": 4,
      "outputs": []
    },
    {
      "cell_type": "markdown",
      "source": [
        "**Loading dataset**"
      ],
      "metadata": {
        "id": "YsdcDdiVx94V"
      }
    },
    {
      "cell_type": "markdown",
      "source": [
        "Dataset is available in tensorflow dataset repository"
      ],
      "metadata": {
        "id": "TCxGPZIJyClx"
      }
    },
    {
      "cell_type": "code",
      "source": [
        "(x_train,y_train),(x_test,y_test)=mnist.load_data()"
      ],
      "metadata": {
        "colab": {
          "base_uri": "https://localhost:8080/"
        },
        "id": "LPTZRD34x-4y",
        "outputId": "897be6b0-b8cc-401c-a395-f5aa8379d64f"
      },
      "execution_count": 5,
      "outputs": [
        {
          "output_type": "stream",
          "name": "stdout",
          "text": [
            "Downloading data from https://storage.googleapis.com/tensorflow/tf-keras-datasets/mnist.npz\n",
            "11490434/11490434 [==============================] - 0s 0us/step\n"
          ]
        }
      ]
    },
    {
      "cell_type": "code",
      "source": [
        "print(x_train.shape)\n",
        "print(y_train.shape)"
      ],
      "metadata": {
        "colab": {
          "base_uri": "https://localhost:8080/"
        },
        "id": "0wh2y-MgyJWN",
        "outputId": "e3eb7c69-9c0b-4641-f2e3-62cf809dece9"
      },
      "execution_count": 6,
      "outputs": [
        {
          "output_type": "stream",
          "name": "stdout",
          "text": [
            "(60000, 28, 28)\n",
            "(60000,)\n"
          ]
        }
      ]
    },
    {
      "cell_type": "code",
      "source": [
        "print(x_test.shape)\n",
        "print(y_test.shape)"
      ],
      "metadata": {
        "colab": {
          "base_uri": "https://localhost:8080/"
        },
        "id": "NXibBfoWyMEX",
        "outputId": "5aa1a6c6-a6dc-4fa1-ed5b-7496682cd82b"
      },
      "execution_count": 7,
      "outputs": [
        {
          "output_type": "stream",
          "name": "stdout",
          "text": [
            "(10000, 28, 28)\n",
            "(10000,)\n"
          ]
        }
      ]
    },
    {
      "cell_type": "markdown",
      "source": [
        "**Analyze the data**"
      ],
      "metadata": {
        "id": "EcClv7mfyPBs"
      }
    },
    {
      "cell_type": "code",
      "source": [
        "x_train[3]"
      ],
      "metadata": {
        "colab": {
          "base_uri": "https://localhost:8080/"
        },
        "id": "Q8sM4cP9ydz6",
        "outputId": "ff2db3e1-07e7-46ec-bd20-98f04e72c942"
      },
      "execution_count": 25,
      "outputs": [
        {
          "output_type": "execute_result",
          "data": {
            "text/plain": [
              "array([[[  0.],\n",
              "        [  0.],\n",
              "        [  0.],\n",
              "        [  0.],\n",
              "        [  0.],\n",
              "        [  0.],\n",
              "        [  0.],\n",
              "        [  0.],\n",
              "        [  0.],\n",
              "        [  0.],\n",
              "        [  0.],\n",
              "        [  0.],\n",
              "        [  0.],\n",
              "        [  0.],\n",
              "        [  0.],\n",
              "        [  0.],\n",
              "        [  0.],\n",
              "        [  0.],\n",
              "        [  0.],\n",
              "        [  0.],\n",
              "        [  0.],\n",
              "        [  0.],\n",
              "        [  0.],\n",
              "        [  0.],\n",
              "        [  0.],\n",
              "        [  0.],\n",
              "        [  0.],\n",
              "        [  0.]],\n",
              "\n",
              "       [[  0.],\n",
              "        [  0.],\n",
              "        [  0.],\n",
              "        [  0.],\n",
              "        [  0.],\n",
              "        [  0.],\n",
              "        [  0.],\n",
              "        [  0.],\n",
              "        [  0.],\n",
              "        [  0.],\n",
              "        [  0.],\n",
              "        [  0.],\n",
              "        [  0.],\n",
              "        [  0.],\n",
              "        [  0.],\n",
              "        [  0.],\n",
              "        [  0.],\n",
              "        [  0.],\n",
              "        [  0.],\n",
              "        [  0.],\n",
              "        [  0.],\n",
              "        [  0.],\n",
              "        [  0.],\n",
              "        [  0.],\n",
              "        [  0.],\n",
              "        [  0.],\n",
              "        [  0.],\n",
              "        [  0.]],\n",
              "\n",
              "       [[  0.],\n",
              "        [  0.],\n",
              "        [  0.],\n",
              "        [  0.],\n",
              "        [  0.],\n",
              "        [  0.],\n",
              "        [  0.],\n",
              "        [  0.],\n",
              "        [  0.],\n",
              "        [  0.],\n",
              "        [  0.],\n",
              "        [  0.],\n",
              "        [  0.],\n",
              "        [  0.],\n",
              "        [  0.],\n",
              "        [  0.],\n",
              "        [  0.],\n",
              "        [  0.],\n",
              "        [  0.],\n",
              "        [  0.],\n",
              "        [  0.],\n",
              "        [  0.],\n",
              "        [  0.],\n",
              "        [  0.],\n",
              "        [  0.],\n",
              "        [  0.],\n",
              "        [  0.],\n",
              "        [  0.]],\n",
              "\n",
              "       [[  0.],\n",
              "        [  0.],\n",
              "        [  0.],\n",
              "        [  0.],\n",
              "        [  0.],\n",
              "        [  0.],\n",
              "        [  0.],\n",
              "        [  0.],\n",
              "        [  0.],\n",
              "        [  0.],\n",
              "        [  0.],\n",
              "        [  0.],\n",
              "        [  0.],\n",
              "        [  0.],\n",
              "        [  0.],\n",
              "        [  0.],\n",
              "        [  0.],\n",
              "        [  0.],\n",
              "        [  0.],\n",
              "        [  0.],\n",
              "        [  0.],\n",
              "        [  0.],\n",
              "        [  0.],\n",
              "        [  0.],\n",
              "        [  0.],\n",
              "        [  0.],\n",
              "        [  0.],\n",
              "        [  0.]],\n",
              "\n",
              "       [[  0.],\n",
              "        [  0.],\n",
              "        [  0.],\n",
              "        [  0.],\n",
              "        [  0.],\n",
              "        [  0.],\n",
              "        [  0.],\n",
              "        [  0.],\n",
              "        [  0.],\n",
              "        [  0.],\n",
              "        [  0.],\n",
              "        [  0.],\n",
              "        [  0.],\n",
              "        [  0.],\n",
              "        [  0.],\n",
              "        [  0.],\n",
              "        [  0.],\n",
              "        [  0.],\n",
              "        [  0.],\n",
              "        [  0.],\n",
              "        [  0.],\n",
              "        [  0.],\n",
              "        [  0.],\n",
              "        [  0.],\n",
              "        [  0.],\n",
              "        [  0.],\n",
              "        [  0.],\n",
              "        [  0.]],\n",
              "\n",
              "       [[  0.],\n",
              "        [  0.],\n",
              "        [  0.],\n",
              "        [  0.],\n",
              "        [  0.],\n",
              "        [  0.],\n",
              "        [  0.],\n",
              "        [  0.],\n",
              "        [  0.],\n",
              "        [  0.],\n",
              "        [  0.],\n",
              "        [  0.],\n",
              "        [  0.],\n",
              "        [  0.],\n",
              "        [  0.],\n",
              "        [  0.],\n",
              "        [  0.],\n",
              "        [  0.],\n",
              "        [124.],\n",
              "        [253.],\n",
              "        [255.],\n",
              "        [ 63.],\n",
              "        [  0.],\n",
              "        [  0.],\n",
              "        [  0.],\n",
              "        [  0.],\n",
              "        [  0.],\n",
              "        [  0.]],\n",
              "\n",
              "       [[  0.],\n",
              "        [  0.],\n",
              "        [  0.],\n",
              "        [  0.],\n",
              "        [  0.],\n",
              "        [  0.],\n",
              "        [  0.],\n",
              "        [  0.],\n",
              "        [  0.],\n",
              "        [  0.],\n",
              "        [  0.],\n",
              "        [  0.],\n",
              "        [  0.],\n",
              "        [  0.],\n",
              "        [  0.],\n",
              "        [  0.],\n",
              "        [  0.],\n",
              "        [ 96.],\n",
              "        [244.],\n",
              "        [251.],\n",
              "        [253.],\n",
              "        [ 62.],\n",
              "        [  0.],\n",
              "        [  0.],\n",
              "        [  0.],\n",
              "        [  0.],\n",
              "        [  0.],\n",
              "        [  0.]],\n",
              "\n",
              "       [[  0.],\n",
              "        [  0.],\n",
              "        [  0.],\n",
              "        [  0.],\n",
              "        [  0.],\n",
              "        [  0.],\n",
              "        [  0.],\n",
              "        [  0.],\n",
              "        [  0.],\n",
              "        [  0.],\n",
              "        [  0.],\n",
              "        [  0.],\n",
              "        [  0.],\n",
              "        [  0.],\n",
              "        [  0.],\n",
              "        [  0.],\n",
              "        [  0.],\n",
              "        [127.],\n",
              "        [251.],\n",
              "        [251.],\n",
              "        [253.],\n",
              "        [ 62.],\n",
              "        [  0.],\n",
              "        [  0.],\n",
              "        [  0.],\n",
              "        [  0.],\n",
              "        [  0.],\n",
              "        [  0.]],\n",
              "\n",
              "       [[  0.],\n",
              "        [  0.],\n",
              "        [  0.],\n",
              "        [  0.],\n",
              "        [  0.],\n",
              "        [  0.],\n",
              "        [  0.],\n",
              "        [  0.],\n",
              "        [  0.],\n",
              "        [  0.],\n",
              "        [  0.],\n",
              "        [  0.],\n",
              "        [  0.],\n",
              "        [  0.],\n",
              "        [  0.],\n",
              "        [  0.],\n",
              "        [ 68.],\n",
              "        [236.],\n",
              "        [251.],\n",
              "        [211.],\n",
              "        [ 31.],\n",
              "        [  8.],\n",
              "        [  0.],\n",
              "        [  0.],\n",
              "        [  0.],\n",
              "        [  0.],\n",
              "        [  0.],\n",
              "        [  0.]],\n",
              "\n",
              "       [[  0.],\n",
              "        [  0.],\n",
              "        [  0.],\n",
              "        [  0.],\n",
              "        [  0.],\n",
              "        [  0.],\n",
              "        [  0.],\n",
              "        [  0.],\n",
              "        [  0.],\n",
              "        [  0.],\n",
              "        [  0.],\n",
              "        [  0.],\n",
              "        [  0.],\n",
              "        [  0.],\n",
              "        [  0.],\n",
              "        [ 60.],\n",
              "        [228.],\n",
              "        [251.],\n",
              "        [251.],\n",
              "        [ 94.],\n",
              "        [  0.],\n",
              "        [  0.],\n",
              "        [  0.],\n",
              "        [  0.],\n",
              "        [  0.],\n",
              "        [  0.],\n",
              "        [  0.],\n",
              "        [  0.]],\n",
              "\n",
              "       [[  0.],\n",
              "        [  0.],\n",
              "        [  0.],\n",
              "        [  0.],\n",
              "        [  0.],\n",
              "        [  0.],\n",
              "        [  0.],\n",
              "        [  0.],\n",
              "        [  0.],\n",
              "        [  0.],\n",
              "        [  0.],\n",
              "        [  0.],\n",
              "        [  0.],\n",
              "        [  0.],\n",
              "        [  0.],\n",
              "        [155.],\n",
              "        [253.],\n",
              "        [253.],\n",
              "        [189.],\n",
              "        [  0.],\n",
              "        [  0.],\n",
              "        [  0.],\n",
              "        [  0.],\n",
              "        [  0.],\n",
              "        [  0.],\n",
              "        [  0.],\n",
              "        [  0.],\n",
              "        [  0.]],\n",
              "\n",
              "       [[  0.],\n",
              "        [  0.],\n",
              "        [  0.],\n",
              "        [  0.],\n",
              "        [  0.],\n",
              "        [  0.],\n",
              "        [  0.],\n",
              "        [  0.],\n",
              "        [  0.],\n",
              "        [  0.],\n",
              "        [  0.],\n",
              "        [  0.],\n",
              "        [  0.],\n",
              "        [  0.],\n",
              "        [ 20.],\n",
              "        [253.],\n",
              "        [251.],\n",
              "        [235.],\n",
              "        [ 66.],\n",
              "        [  0.],\n",
              "        [  0.],\n",
              "        [  0.],\n",
              "        [  0.],\n",
              "        [  0.],\n",
              "        [  0.],\n",
              "        [  0.],\n",
              "        [  0.],\n",
              "        [  0.]],\n",
              "\n",
              "       [[  0.],\n",
              "        [  0.],\n",
              "        [  0.],\n",
              "        [  0.],\n",
              "        [  0.],\n",
              "        [  0.],\n",
              "        [  0.],\n",
              "        [  0.],\n",
              "        [  0.],\n",
              "        [  0.],\n",
              "        [  0.],\n",
              "        [  0.],\n",
              "        [  0.],\n",
              "        [ 32.],\n",
              "        [205.],\n",
              "        [253.],\n",
              "        [251.],\n",
              "        [126.],\n",
              "        [  0.],\n",
              "        [  0.],\n",
              "        [  0.],\n",
              "        [  0.],\n",
              "        [  0.],\n",
              "        [  0.],\n",
              "        [  0.],\n",
              "        [  0.],\n",
              "        [  0.],\n",
              "        [  0.]],\n",
              "\n",
              "       [[  0.],\n",
              "        [  0.],\n",
              "        [  0.],\n",
              "        [  0.],\n",
              "        [  0.],\n",
              "        [  0.],\n",
              "        [  0.],\n",
              "        [  0.],\n",
              "        [  0.],\n",
              "        [  0.],\n",
              "        [  0.],\n",
              "        [  0.],\n",
              "        [  0.],\n",
              "        [104.],\n",
              "        [251.],\n",
              "        [253.],\n",
              "        [184.],\n",
              "        [ 15.],\n",
              "        [  0.],\n",
              "        [  0.],\n",
              "        [  0.],\n",
              "        [  0.],\n",
              "        [  0.],\n",
              "        [  0.],\n",
              "        [  0.],\n",
              "        [  0.],\n",
              "        [  0.],\n",
              "        [  0.]],\n",
              "\n",
              "       [[  0.],\n",
              "        [  0.],\n",
              "        [  0.],\n",
              "        [  0.],\n",
              "        [  0.],\n",
              "        [  0.],\n",
              "        [  0.],\n",
              "        [  0.],\n",
              "        [  0.],\n",
              "        [  0.],\n",
              "        [  0.],\n",
              "        [  0.],\n",
              "        [ 80.],\n",
              "        [240.],\n",
              "        [251.],\n",
              "        [193.],\n",
              "        [ 23.],\n",
              "        [  0.],\n",
              "        [  0.],\n",
              "        [  0.],\n",
              "        [  0.],\n",
              "        [  0.],\n",
              "        [  0.],\n",
              "        [  0.],\n",
              "        [  0.],\n",
              "        [  0.],\n",
              "        [  0.],\n",
              "        [  0.]],\n",
              "\n",
              "       [[  0.],\n",
              "        [  0.],\n",
              "        [  0.],\n",
              "        [  0.],\n",
              "        [  0.],\n",
              "        [  0.],\n",
              "        [  0.],\n",
              "        [  0.],\n",
              "        [  0.],\n",
              "        [  0.],\n",
              "        [  0.],\n",
              "        [ 32.],\n",
              "        [253.],\n",
              "        [253.],\n",
              "        [253.],\n",
              "        [159.],\n",
              "        [  0.],\n",
              "        [  0.],\n",
              "        [  0.],\n",
              "        [  0.],\n",
              "        [  0.],\n",
              "        [  0.],\n",
              "        [  0.],\n",
              "        [  0.],\n",
              "        [  0.],\n",
              "        [  0.],\n",
              "        [  0.],\n",
              "        [  0.]],\n",
              "\n",
              "       [[  0.],\n",
              "        [  0.],\n",
              "        [  0.],\n",
              "        [  0.],\n",
              "        [  0.],\n",
              "        [  0.],\n",
              "        [  0.],\n",
              "        [  0.],\n",
              "        [  0.],\n",
              "        [  0.],\n",
              "        [  0.],\n",
              "        [151.],\n",
              "        [251.],\n",
              "        [251.],\n",
              "        [251.],\n",
              "        [ 39.],\n",
              "        [  0.],\n",
              "        [  0.],\n",
              "        [  0.],\n",
              "        [  0.],\n",
              "        [  0.],\n",
              "        [  0.],\n",
              "        [  0.],\n",
              "        [  0.],\n",
              "        [  0.],\n",
              "        [  0.],\n",
              "        [  0.],\n",
              "        [  0.]],\n",
              "\n",
              "       [[  0.],\n",
              "        [  0.],\n",
              "        [  0.],\n",
              "        [  0.],\n",
              "        [  0.],\n",
              "        [  0.],\n",
              "        [  0.],\n",
              "        [  0.],\n",
              "        [  0.],\n",
              "        [  0.],\n",
              "        [ 48.],\n",
              "        [221.],\n",
              "        [251.],\n",
              "        [251.],\n",
              "        [172.],\n",
              "        [  0.],\n",
              "        [  0.],\n",
              "        [  0.],\n",
              "        [  0.],\n",
              "        [  0.],\n",
              "        [  0.],\n",
              "        [  0.],\n",
              "        [  0.],\n",
              "        [  0.],\n",
              "        [  0.],\n",
              "        [  0.],\n",
              "        [  0.],\n",
              "        [  0.]],\n",
              "\n",
              "       [[  0.],\n",
              "        [  0.],\n",
              "        [  0.],\n",
              "        [  0.],\n",
              "        [  0.],\n",
              "        [  0.],\n",
              "        [  0.],\n",
              "        [  0.],\n",
              "        [  0.],\n",
              "        [  0.],\n",
              "        [234.],\n",
              "        [251.],\n",
              "        [251.],\n",
              "        [196.],\n",
              "        [ 12.],\n",
              "        [  0.],\n",
              "        [  0.],\n",
              "        [  0.],\n",
              "        [  0.],\n",
              "        [  0.],\n",
              "        [  0.],\n",
              "        [  0.],\n",
              "        [  0.],\n",
              "        [  0.],\n",
              "        [  0.],\n",
              "        [  0.],\n",
              "        [  0.],\n",
              "        [  0.]],\n",
              "\n",
              "       [[  0.],\n",
              "        [  0.],\n",
              "        [  0.],\n",
              "        [  0.],\n",
              "        [  0.],\n",
              "        [  0.],\n",
              "        [  0.],\n",
              "        [  0.],\n",
              "        [  0.],\n",
              "        [  0.],\n",
              "        [253.],\n",
              "        [251.],\n",
              "        [251.],\n",
              "        [ 89.],\n",
              "        [  0.],\n",
              "        [  0.],\n",
              "        [  0.],\n",
              "        [  0.],\n",
              "        [  0.],\n",
              "        [  0.],\n",
              "        [  0.],\n",
              "        [  0.],\n",
              "        [  0.],\n",
              "        [  0.],\n",
              "        [  0.],\n",
              "        [  0.],\n",
              "        [  0.],\n",
              "        [  0.]],\n",
              "\n",
              "       [[  0.],\n",
              "        [  0.],\n",
              "        [  0.],\n",
              "        [  0.],\n",
              "        [  0.],\n",
              "        [  0.],\n",
              "        [  0.],\n",
              "        [  0.],\n",
              "        [  0.],\n",
              "        [159.],\n",
              "        [255.],\n",
              "        [253.],\n",
              "        [253.],\n",
              "        [ 31.],\n",
              "        [  0.],\n",
              "        [  0.],\n",
              "        [  0.],\n",
              "        [  0.],\n",
              "        [  0.],\n",
              "        [  0.],\n",
              "        [  0.],\n",
              "        [  0.],\n",
              "        [  0.],\n",
              "        [  0.],\n",
              "        [  0.],\n",
              "        [  0.],\n",
              "        [  0.],\n",
              "        [  0.]],\n",
              "\n",
              "       [[  0.],\n",
              "        [  0.],\n",
              "        [  0.],\n",
              "        [  0.],\n",
              "        [  0.],\n",
              "        [  0.],\n",
              "        [  0.],\n",
              "        [  0.],\n",
              "        [ 48.],\n",
              "        [228.],\n",
              "        [253.],\n",
              "        [247.],\n",
              "        [140.],\n",
              "        [  8.],\n",
              "        [  0.],\n",
              "        [  0.],\n",
              "        [  0.],\n",
              "        [  0.],\n",
              "        [  0.],\n",
              "        [  0.],\n",
              "        [  0.],\n",
              "        [  0.],\n",
              "        [  0.],\n",
              "        [  0.],\n",
              "        [  0.],\n",
              "        [  0.],\n",
              "        [  0.],\n",
              "        [  0.]],\n",
              "\n",
              "       [[  0.],\n",
              "        [  0.],\n",
              "        [  0.],\n",
              "        [  0.],\n",
              "        [  0.],\n",
              "        [  0.],\n",
              "        [  0.],\n",
              "        [  0.],\n",
              "        [ 64.],\n",
              "        [251.],\n",
              "        [253.],\n",
              "        [220.],\n",
              "        [  0.],\n",
              "        [  0.],\n",
              "        [  0.],\n",
              "        [  0.],\n",
              "        [  0.],\n",
              "        [  0.],\n",
              "        [  0.],\n",
              "        [  0.],\n",
              "        [  0.],\n",
              "        [  0.],\n",
              "        [  0.],\n",
              "        [  0.],\n",
              "        [  0.],\n",
              "        [  0.],\n",
              "        [  0.],\n",
              "        [  0.]],\n",
              "\n",
              "       [[  0.],\n",
              "        [  0.],\n",
              "        [  0.],\n",
              "        [  0.],\n",
              "        [  0.],\n",
              "        [  0.],\n",
              "        [  0.],\n",
              "        [  0.],\n",
              "        [ 64.],\n",
              "        [251.],\n",
              "        [253.],\n",
              "        [220.],\n",
              "        [  0.],\n",
              "        [  0.],\n",
              "        [  0.],\n",
              "        [  0.],\n",
              "        [  0.],\n",
              "        [  0.],\n",
              "        [  0.],\n",
              "        [  0.],\n",
              "        [  0.],\n",
              "        [  0.],\n",
              "        [  0.],\n",
              "        [  0.],\n",
              "        [  0.],\n",
              "        [  0.],\n",
              "        [  0.],\n",
              "        [  0.]],\n",
              "\n",
              "       [[  0.],\n",
              "        [  0.],\n",
              "        [  0.],\n",
              "        [  0.],\n",
              "        [  0.],\n",
              "        [  0.],\n",
              "        [  0.],\n",
              "        [  0.],\n",
              "        [ 24.],\n",
              "        [193.],\n",
              "        [253.],\n",
              "        [220.],\n",
              "        [  0.],\n",
              "        [  0.],\n",
              "        [  0.],\n",
              "        [  0.],\n",
              "        [  0.],\n",
              "        [  0.],\n",
              "        [  0.],\n",
              "        [  0.],\n",
              "        [  0.],\n",
              "        [  0.],\n",
              "        [  0.],\n",
              "        [  0.],\n",
              "        [  0.],\n",
              "        [  0.],\n",
              "        [  0.],\n",
              "        [  0.]],\n",
              "\n",
              "       [[  0.],\n",
              "        [  0.],\n",
              "        [  0.],\n",
              "        [  0.],\n",
              "        [  0.],\n",
              "        [  0.],\n",
              "        [  0.],\n",
              "        [  0.],\n",
              "        [  0.],\n",
              "        [  0.],\n",
              "        [  0.],\n",
              "        [  0.],\n",
              "        [  0.],\n",
              "        [  0.],\n",
              "        [  0.],\n",
              "        [  0.],\n",
              "        [  0.],\n",
              "        [  0.],\n",
              "        [  0.],\n",
              "        [  0.],\n",
              "        [  0.],\n",
              "        [  0.],\n",
              "        [  0.],\n",
              "        [  0.],\n",
              "        [  0.],\n",
              "        [  0.],\n",
              "        [  0.],\n",
              "        [  0.]],\n",
              "\n",
              "       [[  0.],\n",
              "        [  0.],\n",
              "        [  0.],\n",
              "        [  0.],\n",
              "        [  0.],\n",
              "        [  0.],\n",
              "        [  0.],\n",
              "        [  0.],\n",
              "        [  0.],\n",
              "        [  0.],\n",
              "        [  0.],\n",
              "        [  0.],\n",
              "        [  0.],\n",
              "        [  0.],\n",
              "        [  0.],\n",
              "        [  0.],\n",
              "        [  0.],\n",
              "        [  0.],\n",
              "        [  0.],\n",
              "        [  0.],\n",
              "        [  0.],\n",
              "        [  0.],\n",
              "        [  0.],\n",
              "        [  0.],\n",
              "        [  0.],\n",
              "        [  0.],\n",
              "        [  0.],\n",
              "        [  0.]],\n",
              "\n",
              "       [[  0.],\n",
              "        [  0.],\n",
              "        [  0.],\n",
              "        [  0.],\n",
              "        [  0.],\n",
              "        [  0.],\n",
              "        [  0.],\n",
              "        [  0.],\n",
              "        [  0.],\n",
              "        [  0.],\n",
              "        [  0.],\n",
              "        [  0.],\n",
              "        [  0.],\n",
              "        [  0.],\n",
              "        [  0.],\n",
              "        [  0.],\n",
              "        [  0.],\n",
              "        [  0.],\n",
              "        [  0.],\n",
              "        [  0.],\n",
              "        [  0.],\n",
              "        [  0.],\n",
              "        [  0.],\n",
              "        [  0.],\n",
              "        [  0.],\n",
              "        [  0.],\n",
              "        [  0.],\n",
              "        [  0.]]], dtype=float32)"
            ]
          },
          "metadata": {},
          "execution_count": 25
        }
      ]
    },
    {
      "cell_type": "code",
      "source": [
        "y_train[3]"
      ],
      "metadata": {
        "colab": {
          "base_uri": "https://localhost:8080/"
        },
        "id": "QEjfaxzTyiet",
        "outputId": "a1e807aa-dd18-4dd3-e243-aac918d84639"
      },
      "execution_count": 9,
      "outputs": [
        {
          "output_type": "execute_result",
          "data": {
            "text/plain": [
              "1"
            ]
          },
          "metadata": {},
          "execution_count": 9
        }
      ]
    },
    {
      "cell_type": "code",
      "source": [
        "import matplotlib.pyplot as plt"
      ],
      "metadata": {
        "id": "Np-nm03CymA4"
      },
      "execution_count": 10,
      "outputs": []
    },
    {
      "cell_type": "code",
      "source": [
        "plt.imshow(x_train[3])"
      ],
      "metadata": {
        "colab": {
          "base_uri": "https://localhost:8080/",
          "height": 282
        },
        "id": "CTTS_LXPypSt",
        "outputId": "faaaef48-e5c7-4797-de31-42d3261376f6"
      },
      "execution_count": 11,
      "outputs": [
        {
          "output_type": "execute_result",
          "data": {
            "text/plain": [
              "<matplotlib.image.AxesImage at 0x7f14cbe82650>"
            ]
          },
          "metadata": {},
          "execution_count": 11
        },
        {
          "output_type": "display_data",
          "data": {
            "text/plain": [
              "<Figure size 432x288 with 1 Axes>"
            ],
            "image/png": "[encoded data removed]"
          },
          "metadata": {
            "needs_background": "light"
          }
        }
      ]
    },
    {
      "cell_type": "markdown",
      "source": [
        "**Reshaping the data**"
      ],
      "metadata": {
        "id": "3HthrtdgyszJ"
      }
    },
    {
      "cell_type": "code",
      "source": [
        "#(batch,height,width,channel)\n",
        "x_train=x_train.reshape(60000,28,28,1).astype('float32')\n",
        "x_test=x_test.reshape(10000,28,28,1).astype('float32')"
      ],
      "metadata": {
        "id": "6HKGlCiuyzdX"
      },
      "execution_count": 12,
      "outputs": []
    },
    {
      "cell_type": "markdown",
      "source": [
        "**Applying one hot encoding**"
      ],
      "metadata": {
        "id": "EiY8wbUUy2MH"
      }
    },
    {
      "cell_type": "code",
      "source": [
        "no_of_classes=10\n",
        "y_train=np_utils.to_categorical(y_train,no_of_classes)\n",
        "y_test=np_utils.to_categorical(y_test,no_of_classes)"
      ],
      "metadata": {
        "id": "EsUxDncry4z5"
      },
      "execution_count": 13,
      "outputs": []
    },
    {
      "cell_type": "code",
      "source": [
        "y_test[3]"
      ],
      "metadata": {
        "colab": {
          "base_uri": "https://localhost:8080/"
        },
        "id": "3juShAcpy8SU",
        "outputId": "925e0dc9-a9da-4e61-8b67-ebf7b6d1bd7c"
      },
      "execution_count": 14,
      "outputs": [
        {
          "output_type": "execute_result",
          "data": {
            "text/plain": [
              "array([1., 0., 0., 0., 0., 0., 0., 0., 0., 0.], dtype=float32)"
            ]
          },
          "metadata": {},
          "execution_count": 14
        }
      ]
    },
    {
      "cell_type": "markdown",
      "source": [
        "**Add CNN Layers**"
      ],
      "metadata": {
        "id": "6rBd4hKAy_5r"
      }
    },
    {
      "cell_type": "code",
      "source": [
        "model=Sequential()\n",
        "\n",
        "model.add(Conv2D(64,(3,3),input_shape=(28,28,1),activation='relu'))\n",
        "model.add(Conv2D(32,(3,3),activation='relu'))\n",
        "\n",
        "model.add(Flatten())\n",
        "model.add(Dense(no_of_classes,activation='softmax'))"
      ],
      "metadata": {
        "id": "JQpV9aB2zDub"
      },
      "execution_count": 15,
      "outputs": []
    },
    {
      "cell_type": "markdown",
      "source": [
        "**Compiling the model**"
      ],
      "metadata": {
        "id": "9VSr1IFbzILO"
      }
    },
    {
      "cell_type": "code",
      "source": [
        "model.compile(loss='categorical_crossentropy',optimizer='Adam',metrics=['accuracy'])\n"
      ],
      "metadata": {
        "id": "SyaPhmwkzKXs"
      },
      "execution_count": 16,
      "outputs": []
    },
    {
      "cell_type": "markdown",
      "source": [
        "**Train the model**"
      ],
      "metadata": {
        "id": "NXjt5IMozPTE"
      }
    },
    {
      "cell_type": "code",
      "source": [
        "model.fit(x_train,y_train,validation_data=(x_test,y_test),epochs=5,batch_size=32)\n"
      ],
      "metadata": {
        "colab": {
          "base_uri": "https://localhost:8080/"
        },
        "id": "7mzaJULjzQxC",
        "outputId": "5c38e8b1-12d4-413c-e51d-831cb8030f0d"
      },
      "execution_count": 17,
      "outputs": [
        {
          "output_type": "stream",
          "name": "stdout",
          "text": [
            "Epoch 1/5\n",
            "1875/1875 [==============================] - 182s 96ms/step - loss: 0.2434 - accuracy: 0.9506 - val_loss: 0.0890 - val_accuracy: 0.9746\n",
            "Epoch 2/5\n",
            "1875/1875 [==============================] - 184s 98ms/step - loss: 0.0686 - accuracy: 0.9792 - val_loss: 0.0817 - val_accuracy: 0.9761\n",
            "Epoch 3/5\n",
            "1875/1875 [==============================] - 180s 96ms/step - loss: 0.0500 - accuracy: 0.9843 - val_loss: 0.0879 - val_accuracy: 0.9751\n",
            "Epoch 4/5\n",
            "1875/1875 [==============================] - 175s 94ms/step - loss: 0.0385 - accuracy: 0.9879 - val_loss: 0.0859 - val_accuracy: 0.9766\n",
            "Epoch 5/5\n",
            "1875/1875 [==============================] - 173s 92ms/step - loss: 0.0278 - accuracy: 0.9914 - val_loss: 0.1302 - val_accuracy: 0.9743\n"
          ]
        },
        {
          "output_type": "execute_result",
          "data": {
            "text/plain": [
              "<keras.callbacks.History at 0x7f14cb950ad0>"
            ]
          },
          "metadata": {},
          "execution_count": 17
        }
      ]
    },
    {
      "cell_type": "markdown",
      "source": [
        "Observing the Metrics\n",
        "**bold text**"
      ],
      "metadata": {
        "id": "U4NcXkoU0Ns8"
      }
    },
    {
      "cell_type": "code",
      "source": [
        "metrics=model.evaluate(x_test,y_test,verbose=0)\n",
        "print(\"metrics-score=>test loss & accuracy\")\n",
        "print(metrics)"
      ],
      "metadata": {
        "colab": {
          "base_uri": "https://localhost:8080/"
        },
        "id": "fIkU-yec0Pyn",
        "outputId": "762759f6-b943-47b9-8136-af2c95805075"
      },
      "execution_count": 18,
      "outputs": [
        {
          "output_type": "stream",
          "name": "stdout",
          "text": [
            "metrics-score=>test loss & accuracy\n",
            "[0.13022489845752716, 0.9743000268936157]\n"
          ]
        }
      ]
    },
    {
      "cell_type": "markdown",
      "source": [
        "**Test the model**"
      ],
      "metadata": {
        "id": "d1s-Mi0p0YF3"
      }
    },
    {
      "cell_type": "code",
      "source": [
        "prediction=model.predict(x_test[:5])\n",
        "print(prediction)"
      ],
      "metadata": {
        "colab": {
          "base_uri": "https://localhost:8080/"
        },
        "id": "6ygdii-K0aqB",
        "outputId": "3c0b997a-b227-4e6c-96fc-f1f27007aa28"
      },
      "execution_count": 19,
      "outputs": [
        {
          "output_type": "stream",
          "name": "stdout",
          "text": [
            "1/1 [==============================] - 0s 83ms/step\n",
            "[[3.4185439e-13 5.5741874e-24 1.4108578e-12 5.8982312e-11 8.8633264e-24\n",
            "  1.7296551e-19 1.1825404e-27 1.0000000e+00 2.0502003e-15 5.3643347e-13]\n",
            " [2.3261268e-10 3.0212267e-12 1.0000000e+00 2.4511115e-15 1.3148062e-15\n",
            "  2.6663117e-18 4.0791917e-08 5.0848124e-24 9.7937172e-17 2.9021448e-20]\n",
            " [1.1903730e-07 9.9797994e-01 8.2079403e-08 2.9906969e-11 2.0179800e-03\n",
            "  3.1817416e-07 6.8299177e-10 3.3208425e-10 1.5256157e-06 3.4948405e-10]\n",
            " [9.9999988e-01 2.0383778e-15 2.3632422e-12 1.9513666e-14 8.6472290e-13\n",
            "  1.9583915e-10 6.5154339e-08 2.2641159e-15 1.3765567e-12 2.1393830e-14]\n",
            " [7.3092357e-13 7.2467152e-16 1.7558748e-19 7.3679030e-19 1.0000000e+00\n",
            "  8.0831583e-15 5.2094830e-18 1.0322817e-17 5.9578968e-15 1.1498401e-09]]\n"
          ]
        }
      ]
    },
    {
      "cell_type": "code",
      "source": [
        "import numpy as np\n"
      ],
      "metadata": {
        "colab": {
          "base_uri": "https://localhost:8080/"
        },
        "id": "w6dIge2q0fXc",
        "outputId": "fe2782f2-a23a-41ca-96e6-845f4bf63f63"
      },
      "execution_count": 20,
      "outputs": [
        {
          "output_type": "stream",
          "name": "stdout",
          "text": [
            "[7 2 1 0 4]\n",
            "[[0. 0. 0. 0. 0. 0. 0. 1. 0. 0.]\n",
            " [0. 0. 1. 0. 0. 0. 0. 0. 0. 0.]\n",
            " [0. 1. 0. 0. 0. 0. 0. 0. 0. 0.]\n",
            " [1. 0. 0. 0. 0. 0. 0. 0. 0. 0.]\n",
            " [0. 0. 0. 0. 1. 0. 0. 0. 0. 0.]]\n"
          ]
        }
      ]
    },
    {
      "cell_type": "code",
      "source": [
        "print(np.argmax(prediction,axis=1))"
      ],
      "metadata": {
        "colab": {
          "base_uri": "https://localhost:8080/"
        },
        "id": "Ce1LI1AZ0ogp",
        "outputId": "00977ac4-b454-4700-cb79-b64cbf0fa855"
      },
      "execution_count": 21,
      "outputs": [
        {
          "output_type": "stream",
          "name": "stdout",
          "text": [
            "[7 2 1 0 4]\n"
          ]
        }
      ]
    },
    {
      "cell_type": "code",
      "source": [
        "print(y_test[:5])"
      ],
      "metadata": {
        "colab": {
          "base_uri": "https://localhost:8080/"
        },
        "id": "DvQZnhDN0p29",
        "outputId": "76ee9409-7aa0-4a07-d00d-b3da0ba47e08"
      },
      "execution_count": 22,
      "outputs": [
        {
          "output_type": "stream",
          "name": "stdout",
          "text": [
            "[[0. 0. 0. 0. 0. 0. 0. 1. 0. 0.]\n",
            " [0. 0. 1. 0. 0. 0. 0. 0. 0. 0.]\n",
            " [0. 1. 0. 0. 0. 0. 0. 0. 0. 0.]\n",
            " [1. 0. 0. 0. 0. 0. 0. 0. 0. 0.]\n",
            " [0. 0. 0. 0. 1. 0. 0. 0. 0. 0.]]\n"
          ]
        }
      ]
    },
    {
      "cell_type": "markdown",
      "source": [
        "**Save the Model**"
      ],
      "metadata": {
        "id": "R9t6JK7t0s32"
      }
    },
    {
      "cell_type": "code",
      "source": [
        "model.save('models/mnistcnn.h5')"
      ],
      "metadata": {
        "id": "NLxXNR4Q0wzl"
      },
      "execution_count": 23,
      "outputs": []
    },
    {
      "cell_type": "markdown",
      "source": [
        "**Test the saved model**"
      ],
      "metadata": {
        "id": "99RqRdms01g8"
      }
    },
    {
      "cell_type": "code",
      "source": [
        "print('X_train:' +str(x_train.shape))\n",
        "print('y_train:' +str(y_train.shape))\n",
        "print('X_test:' +str(x_test.shape))\n",
        "print('y_test:' +str(y_test.shape))\n",
        "from matplotlib import pyplot\n",
        "for i in range(9):\n",
        "  pyplot.subplot(330+1+i)\n",
        "  pyplot.imshow(X_train[i],cmap=pyplot.get_cmap('gray'))\n",
        "  pyplot.show()"
      ],
      "metadata": {
        "colab": {
          "base_uri": "https://localhost:8080/",
          "height": 386
        },
        "id": "HTNKRi0r0zkD",
        "outputId": "d348cf52-0336-4598-d4b4-0a8cd20c512e"
      },
      "execution_count": 33,
      "outputs": [
        {
          "output_type": "stream",
          "name": "stdout",
          "text": [
            "X_train:(60000, 28, 28, 1)\n",
            "y_train:(60000, 10)\n",
            "X_test:(10000, 28, 28, 1)\n",
            "y_test:(10000, 10)\n"
          ]
        },
        {
          "output_type": "error",
          "ename": "NameError",
          "evalue": "ignored",
          "traceback": [
            "\u001b[0;31m---------------------------------------------------------------------------\u001b[0m",
            "\u001b[0;31mNameError\u001b[0m                                 Traceback (most recent call last)",
            "\u001b[0;32m<ipython-input-33-9899b4f12fb6>\u001b[0m in \u001b[0;36m<module>\u001b[0;34m\u001b[0m\n\u001b[1;32m      6\u001b[0m \u001b[0;32mfor\u001b[0m \u001b[0mi\u001b[0m \u001b[0;32min\u001b[0m \u001b[0mrange\u001b[0m\u001b[0;34m(\u001b[0m\u001b[0;36m9\u001b[0m\u001b[0;34m)\u001b[0m\u001b[0;34m:\u001b[0m\u001b[0;34m\u001b[0m\u001b[0;34m\u001b[0m\u001b[0m\n\u001b[1;32m      7\u001b[0m   \u001b[0mpyplot\u001b[0m\u001b[0;34m.\u001b[0m\u001b[0msubplot\u001b[0m\u001b[0;34m(\u001b[0m\u001b[0;36m330\u001b[0m\u001b[0;34m+\u001b[0m\u001b[0;36m1\u001b[0m\u001b[0;34m+\u001b[0m\u001b[0mi\u001b[0m\u001b[0;34m)\u001b[0m\u001b[0;34m\u001b[0m\u001b[0;34m\u001b[0m\u001b[0m\n\u001b[0;32m----> 8\u001b[0;31m   \u001b[0mpyplot\u001b[0m\u001b[0;34m.\u001b[0m\u001b[0mimshow\u001b[0m\u001b[0;34m(\u001b[0m\u001b[0mX_train\u001b[0m\u001b[0;34m[\u001b[0m\u001b[0mi\u001b[0m\u001b[0;34m]\u001b[0m\u001b[0;34m,\u001b[0m\u001b[0mcmap\u001b[0m\u001b[0;34m=\u001b[0m\u001b[0mpyplot\u001b[0m\u001b[0;34m.\u001b[0m\u001b[0mget_cmap\u001b[0m\u001b[0;34m(\u001b[0m\u001b[0;34m'gray'\u001b[0m\u001b[0;34m)\u001b[0m\u001b[0;34m)\u001b[0m\u001b[0;34m\u001b[0m\u001b[0;34m\u001b[0m\u001b[0m\n\u001b[0m\u001b[1;32m      9\u001b[0m   \u001b[0mpyplot\u001b[0m\u001b[0;34m.\u001b[0m\u001b[0mshow\u001b[0m\u001b[0;34m(\u001b[0m\u001b[0;34m)\u001b[0m\u001b[0;34m\u001b[0m\u001b[0;34m\u001b[0m\u001b[0m\n",
            "\u001b[0;31mNameError\u001b[0m: name 'X_train' is not defined"
          ]
        },
        {
          "output_type": "display_data",
          "data": {
            "text/plain": [
              "<Figure size 432x288 with 1 Axes>"
            ],
            "image/png": "[encoded data removed]"
          },
          "metadata": {
            "needs_background": "light"
          }
        }
      ]
    },
    {
      "cell_type": "code",
      "source": [
        "from tensorflow.keras.models import load_model\n",
        "model=load_model('models/mnistcnn.h5')\n",
        "from PIL import Image\n",
        "for index in range(9):\n",
        "  img=X_train[index].reshape((28,28))\n",
        "  imgarray=np.array(img)\n",
        "  imgarray=imgarray.reshape(1,28,28,1)\n",
        "  y_pred=model.predict(imgarray)\n",
        "  print(np.argmax(y_pred))"
      ],
      "metadata": {
        "colab": {
          "base_uri": "https://localhost:8080/",
          "height": 235
        },
        "id": "VY_WGKoi0-S8",
        "outputId": "719422b8-b8f4-4701-9128-96f3d4fed5b6"
      },
      "execution_count": 34,
      "outputs": [
        {
          "output_type": "error",
          "ename": "NameError",
          "evalue": "ignored",
          "traceback": [
            "\u001b[0;31m---------------------------------------------------------------------------\u001b[0m",
            "\u001b[0;31mNameError\u001b[0m                                 Traceback (most recent call last)",
            "\u001b[0;32m<ipython-input-34-32eb6380fdaf>\u001b[0m in \u001b[0;36m<module>\u001b[0;34m\u001b[0m\n\u001b[1;32m      3\u001b[0m \u001b[0;32mfrom\u001b[0m \u001b[0mPIL\u001b[0m \u001b[0;32mimport\u001b[0m \u001b[0mImage\u001b[0m\u001b[0;34m\u001b[0m\u001b[0;34m\u001b[0m\u001b[0m\n\u001b[1;32m      4\u001b[0m \u001b[0;32mfor\u001b[0m \u001b[0mindex\u001b[0m \u001b[0;32min\u001b[0m \u001b[0mrange\u001b[0m\u001b[0;34m(\u001b[0m\u001b[0;36m9\u001b[0m\u001b[0;34m)\u001b[0m\u001b[0;34m:\u001b[0m\u001b[0;34m\u001b[0m\u001b[0;34m\u001b[0m\u001b[0m\n\u001b[0;32m----> 5\u001b[0;31m   \u001b[0mimg\u001b[0m\u001b[0;34m=\u001b[0m\u001b[0mX_train\u001b[0m\u001b[0;34m[\u001b[0m\u001b[0mindex\u001b[0m\u001b[0;34m]\u001b[0m\u001b[0;34m.\u001b[0m\u001b[0mreshape\u001b[0m\u001b[0;34m(\u001b[0m\u001b[0;34m(\u001b[0m\u001b[0;36m28\u001b[0m\u001b[0;34m,\u001b[0m\u001b[0;36m28\u001b[0m\u001b[0;34m)\u001b[0m\u001b[0;34m)\u001b[0m\u001b[0;34m\u001b[0m\u001b[0;34m\u001b[0m\u001b[0m\n\u001b[0m\u001b[1;32m      6\u001b[0m   \u001b[0mimgarray\u001b[0m\u001b[0;34m=\u001b[0m\u001b[0mnp\u001b[0m\u001b[0;34m.\u001b[0m\u001b[0marray\u001b[0m\u001b[0;34m(\u001b[0m\u001b[0mimg\u001b[0m\u001b[0;34m)\u001b[0m\u001b[0;34m\u001b[0m\u001b[0;34m\u001b[0m\u001b[0m\n\u001b[1;32m      7\u001b[0m   \u001b[0mimgarray\u001b[0m\u001b[0;34m=\u001b[0m\u001b[0mimgarray\u001b[0m\u001b[0;34m.\u001b[0m\u001b[0mreshape\u001b[0m\u001b[0;34m(\u001b[0m\u001b[0;36m1\u001b[0m\u001b[0;34m,\u001b[0m\u001b[0;36m28\u001b[0m\u001b[0;34m,\u001b[0m\u001b[0;36m28\u001b[0m\u001b[0;34m,\u001b[0m\u001b[0;36m1\u001b[0m\u001b[0;34m)\u001b[0m\u001b[0;34m\u001b[0m\u001b[0;34m\u001b[0m\u001b[0m\n",
            "\u001b[0;31mNameError\u001b[0m: name 'X_train' is not defined"
          ]
        }
      ]
    }
  ]
}